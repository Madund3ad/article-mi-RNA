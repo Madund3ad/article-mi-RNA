{
  "nbformat": 4,
  "nbformat_minor": 0,
  "metadata": {
    "colab": {
      "name": "fix chroms.ipynb",
      "provenance": []
    },
    "kernelspec": {
      "name": "ir",
      "display_name": "R"
    },
    "language_info": {
      "name": "R"
    }
  },
  "cells": [
    {
      "cell_type": "code",
      "execution_count": 25,
      "metadata": {
        "colab": {
          "base_uri": "https://localhost:8080/"
        },
        "id": "_O1Y8jpb9UmM",
        "outputId": "c08a7947-8b98-44b9-f615-133b2f9d1630"
      },
      "outputs": [
        {
          "output_type": "stream",
          "name": "stderr",
          "text": [
            "'getOption(\"repos\")' replaces Bioconductor standard repositories, see\n",
            "'?repositories' for details\n",
            "\n",
            "replacement repositories:\n",
            "    CRAN: https://cran.rstudio.com\n",
            "\n",
            "\n",
            "Bioconductor version 3.15 (BiocManager 1.30.17), R 4.2.0 (2022-04-22)\n",
            "\n",
            "Warning message:\n",
            "“package(s) not installed when version(s) same as current; use `force = TRUE` to\n",
            "  re-install: 'GenomicRanges'”\n",
            "Old packages: 'ggplot2', 'httr', 'roxygen2', 'tibble', 'xfun'\n",
            "\n",
            "'getOption(\"repos\")' replaces Bioconductor standard repositories, see\n",
            "'?repositories' for details\n",
            "\n",
            "replacement repositories:\n",
            "    CRAN: https://cran.rstudio.com\n",
            "\n",
            "\n",
            "Bioconductor version 3.15 (BiocManager 1.30.17), R 4.2.0 (2022-04-22)\n",
            "\n",
            "Warning message:\n",
            "“package(s) not installed when version(s) same as current; use `force = TRUE` to\n",
            "  re-install: 'rtracklayer'”\n",
            "Old packages: 'ggplot2', 'httr', 'roxygen2', 'tibble', 'xfun'\n",
            "\n",
            "'getOption(\"repos\")' replaces Bioconductor standard repositories, see\n",
            "'?repositories' for details\n",
            "\n",
            "replacement repositories:\n",
            "    CRAN: https://cran.rstudio.com\n",
            "\n",
            "\n",
            "Bioconductor version 3.15 (BiocManager 1.30.17), R 4.2.0 (2022-04-22)\n",
            "\n",
            "Warning message:\n",
            "“package(s) not installed when version(s) same as current; use `force = TRUE` to\n",
            "  re-install: 'GenomicFeatures'”\n",
            "Old packages: 'ggplot2', 'httr', 'roxygen2', 'tibble', 'xfun'\n",
            "\n"
          ]
        }
      ],
      "source": [
        "if (!require(\"BiocManager\", quietly = TRUE))\n",
        "    install.packages(\"BiocManager\")\n",
        "\n",
        "BiocManager::install(\"GenomicRanges\")\n",
        "BiocManager::install(\"rtracklayer\")\n",
        "BiocManager::install(\"GenomicFeatures\")"
      ]
    },
    {
      "cell_type": "code",
      "source": [
        "library(\"rtracklayer\")\n",
        "library(\"GenomicRanges\")\n",
        "library(\"GenomicFeatures\")"
      ],
      "metadata": {
        "id": "WNHWeKlzAHB1"
      },
      "execution_count": 26,
      "outputs": []
    },
    {
      "cell_type": "code",
      "source": [
        "system(\"wget -O AGO2_HepG2.bed.gz https://www.encodeproject.org/files/ENCFF622VSV/@@download/ENCFF622VSV.bed.gz\")\n",
        "system(\"wget -O AGO1_HepG2.bed.gz https://www.encodeproject.org/files/ENCFF639TOU/@@download/ENCFF639TOU.bed.gz\")\n",
        "system(\"wget -O AGO1_K562.bed.gz https://www.encodeproject.org/files/ENCFF836VRV/@@download/ENCFF836VRV.bed.gz\")"
      ],
      "metadata": {
        "id": "vG6Slswd9j8q"
      },
      "execution_count": 27,
      "outputs": []
    },
    {
      "cell_type": "code",
      "source": [
        "mkrangesfromgz<-function(bedgz){\n",
        "  df=read.table(bedgz)\n",
        "  colnames(df)=c(\"chr\",\"start\",\"end\")\n",
        "  return(makeGRangesFromDataFrame(df))\n",
        "}\n"
      ],
      "metadata": {
        "id": "64yGACCQC_N4"
      },
      "execution_count": 28,
      "outputs": []
    },
    {
      "cell_type": "code",
      "source": [
        "AGO1_HepG2=mkrangesfromgz(\"./AGO1_HepG2.bed.gz\")\n",
        "AGO2_HepG2=mkrangesfromgz(\"./AGO2_HepG2.bed.gz\")\n",
        "AGO1_K562=mkrangesfromgz(\"./AGO1_K562.bed.gz\")"
      ],
      "metadata": {
        "id": "l0_qohqADI9z"
      },
      "execution_count": 29,
      "outputs": []
    },
    {
      "cell_type": "code",
      "source": [
        "seqlevelsStyle(AGO2_HepG2) <- \"NCBI\"\n",
        "seqlevelsStyle(AGO1_HepG2) <- \"NCBI\"\n",
        "seqlevelsStyle(AGO1_K562) <- \"NCBI\"\n",
        "export.bed(AGO2_HepG2,con='AGO2 HepG2.bed')\n",
        "export.bed(AGO1_K562,con='AGO1 K562.bed')\n",
        "export.bed(AGO1_HepG2,con='AGO1  HepG2.bed')"
      ],
      "metadata": {
        "id": "mz0XEG2Qfpex"
      },
      "execution_count": 33,
      "outputs": []
    }
  ]
}