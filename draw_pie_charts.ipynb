{
  "nbformat": 4,
  "nbformat_minor": 0,
  "metadata": {
    "colab": {
      "name": "draw_pie_charts.ipynb",
      "provenance": [],
      "collapsed_sections": []
    },
    "kernelspec": {
      "name": "python3",
      "display_name": "Python 3"
    },
    "language_info": {
      "name": "python"
    }
  },
  "cells": [
    {
      "cell_type": "markdown",
      "source": [
        "## Imports"
      ],
      "metadata": {
        "id": "WUfpekR6P2vQ"
      }
    },
    {
      "cell_type": "code",
      "source": [
        "!pip install -U plotly kaleido"
      ],
      "metadata": {
        "id": "PNehBPL7HPnL",
        "colab": {
          "base_uri": "https://localhost:8080/"
        },
        "outputId": "afe91c4d-b1cf-4ae2-db79-f036563f20e6"
      },
      "execution_count": 1,
      "outputs": [
        {
          "output_type": "stream",
          "name": "stdout",
          "text": [
            "Requirement already satisfied: plotly in /usr/local/lib/python3.7/dist-packages (5.5.0)\n",
            "Collecting plotly\n",
            "  Downloading plotly-5.8.0-py2.py3-none-any.whl (15.2 MB)\n",
            "\u001b[K     |████████████████████████████████| 15.2 MB 6.8 MB/s \n",
            "\u001b[?25hCollecting kaleido\n",
            "  Downloading kaleido-0.2.1-py2.py3-none-manylinux1_x86_64.whl (79.9 MB)\n",
            "\u001b[K     |████████████████████████████████| 79.9 MB 97 kB/s \n",
            "\u001b[?25hRequirement already satisfied: tenacity>=6.2.0 in /usr/local/lib/python3.7/dist-packages (from plotly) (8.0.1)\n",
            "Installing collected packages: plotly, kaleido\n",
            "  Attempting uninstall: plotly\n",
            "    Found existing installation: plotly 5.5.0\n",
            "    Uninstalling plotly-5.5.0:\n",
            "      Successfully uninstalled plotly-5.5.0\n",
            "Successfully installed kaleido-0.2.1 plotly-5.8.0\n"
          ]
        }
      ]
    },
    {
      "cell_type": "code",
      "source": [
        "import numpy as np\n",
        "import pandas as pd\n",
        "import plotly.graph_objects as go\n",
        "\n",
        "from plotly.subplots import make_subplots"
      ],
      "metadata": {
        "id": "M7Kdl90ZP5Fx"
      },
      "execution_count": 2,
      "outputs": []
    },
    {
      "cell_type": "markdown",
      "source": [
        "## Data"
      ],
      "metadata": {
        "id": "g4m270I1QBE_"
      }
    },
    {
      "cell_type": "code",
      "source": [
        "\"\"\"Initialize generated data for pie charts.\"\"\"\n",
        "data_list = [        \n",
        "('AGO1 HepG2',\n",
        "\"\"\"\\\n",
        "9    Promoter (<=1kb) 70.17004859\n",
        "10   Promoter (1-2kb)  7.04486996\n",
        "11   Promoter (2-3kb)  4.55844527\n",
        "4              5' UTR  0.17147757\n",
        "3              3' UTR  2.57930837\n",
        "1            1st Exon  0.07859388\n",
        "7          Other Exon  1.87910832\n",
        "2          1st Intron  1.86481852\n",
        "8        Other Intron  3.29379823\n",
        "6  Downstream (<=300)  0.20720206\n",
        "5   Distal Intergenic  8.15232924\n",
        "\"\"\"),\n",
        "('AGO1 K562',\n",
        "\"\"\"\\\n",
        "9    Promoter (<=1kb) 65.1120056\n",
        "10   Promoter (1-2kb)  8.3916696\n",
        "11   Promoter (2-3kb)  5.6440322\n",
        "4              5' UTR  0.2012601\n",
        "3              3' UTR  3.6314316\n",
        "1            1st Exon  0.1750088\n",
        "7          Other Exon  2.5901295\n",
        "2          1st Intron  1.8988449\n",
        "8        Other Intron  3.7014351\n",
        "6  Downstream (<=300)  0.2800140\n",
        "5   Distal Intergenic  8.3741687\n",
        "\"\"\"),\n",
        "('AGO2 HepG2',\n",
        "\"\"\"\\\n",
        "9    Promoter (<=1kb) 54.6771640\n",
        "10   Promoter (1-2kb)  9.1981695\n",
        "11   Promoter (2-3kb)  6.5803457\n",
        "4              5' UTR  0.4185915\n",
        "3              3' UTR  4.8669399\n",
        "1            1st Exon  0.1518208\n",
        "7          Other Exon  4.2856833\n",
        "2          1st Intron  3.9907172\n",
        "8        Other Intron  9.6731516\n",
        "6  Downstream (<=300)  0.2233934\n",
        "5   Distal Intergenic  5.9340230\n",
        "\"\"\")\n",
        "]\n",
        "\n",
        "data_list = np.array(data_list)\n",
        "\n",
        "print([f\"{i}: {x[0]}\" for i, x in enumerate(data_list)])\n",
        "len(data_list)"
      ],
      "metadata": {
        "colab": {
          "base_uri": "https://localhost:8080/"
        },
        "id": "9LmLp3P7QB2s",
        "outputId": "34b659d2-1b9c-4923-9045-7d5ad9db5011"
      },
      "execution_count": 4,
      "outputs": [
        {
          "output_type": "stream",
          "name": "stdout",
          "text": [
            "['0: AGO1 HepG2', '1: AGO1 K562', '2: AGO2 HepG2']\n"
          ]
        },
        {
          "output_type": "execute_result",
          "data": {
            "text/plain": [
              "3"
            ]
          },
          "metadata": {},
          "execution_count": 4
        }
      ]
    },
    {
      "cell_type": "markdown",
      "source": [
        "## Plots"
      ],
      "metadata": {
        "id": "-DzXPP3yRlZ6"
      }
    },
    {
      "cell_type": "code",
      "source": [
        "\"\"\"Define necessary functions for plotting.\"\"\"\n",
        "\n",
        "def get_category_value(category: str, raw_text_data: str):\n",
        "  \"\"\"Parse raw text input from chipSeeker and return value.\"\"\"\n",
        "\n",
        "  if category not in raw_text_data:\n",
        "    return 0\n",
        "  return float(raw_text_data.split(category)[1].split('\\n')[0].strip())\n",
        "\n",
        "def draw_pie_subplots(data:list, rows:int, cols:int, title:str='result'):\n",
        "  \"\"\"Draw a pie chart.\"\"\"\n",
        "\n",
        "  fig = make_subplots(rows=rows, cols=cols, specs=np.full((rows,cols), {'type':'domain'}).tolist(), subplot_titles=[x[0] for x in data])\n",
        "\n",
        "  for i, (data_name, data_raw) in enumerate(data):\n",
        "    categories = {\n",
        "        \"Promoter (<=1kb)\":None,\n",
        "        \"Promoter (1-2kb)\":None,\n",
        "        \"Promoter (2-3kb)\":None,\n",
        "        \"5\\' UTR\":None,\n",
        "        \"3\\' UTR\":None,\n",
        "        \"1st Exon\":None,\n",
        "        \"Other Exon\":None,\n",
        "        \"1st Intron\":None,\n",
        "        \"Other Intron\":None,\n",
        "        \"Downstream (<=300)\":None,\n",
        "        \"Distal Intergenic\":None\n",
        "    }\n",
        "\n",
        "    for cat in categories.keys():\n",
        "      categories[cat] = get_category_value(cat, data_raw)\n",
        "\n",
        "    fig.add_trace(go.Pie(sort=False, rotation=0,\n",
        "                        labels=list(categories.keys()),\n",
        "                        values=list(categories.values()),\n",
        "                        name=data_name),\n",
        "                  1, i+1)\n",
        "\n",
        "  fig.update_traces(hole=.4, hoverinfo=\"label+percent+name\", texttemplate='%{value:.2f}%')\n",
        "\n",
        "  fig.update_annotations(yshift=20)\n",
        "\n",
        "  fig.update_layout(\n",
        "      uniformtext_minsize=10, uniformtext_mode='hide',\n",
        "      legend = dict(font=dict(size=16)),\n",
        "      height=500,\n",
        "      width=1500,\n",
        "  )\n",
        "  fig.write_image(title+'.png')\n",
        "  fig.show()"
      ],
      "metadata": {
        "id": "uwblLmToQSRa"
      },
      "execution_count": 5,
      "outputs": []
    },
    {
      "cell_type": "code",
      "source": [
        "\"\"\"Draw the figures.\"\"\"\n",
        "\n",
        "!rm -r img ; mkdir -p img\n",
        "for i in range(0, len(data_list), 4):\n",
        "  draw_pie_subplots(data_list[i:i+4], 1, 4, f\"img/mm10_kouzine_ssDNA_pie_chart_{i}\")"
      ],
      "metadata": {
        "colab": {
          "base_uri": "https://localhost:8080/",
          "height": 534
        },
        "id": "5gXEny3aQVlF",
        "outputId": "8d6ba7e3-13a3-4d52-b899-91a4cf5e1814"
      },
      "execution_count": 6,
      "outputs": [
        {
          "output_type": "stream",
          "name": "stdout",
          "text": [
            "rm: cannot remove 'img': No such file or directory\n"
          ]
        },
        {
          "output_type": "display_data",
          "data": {
            "text/html": [
              "<html>\n",
              "<head><meta charset=\"utf-8\" /></head>\n",
              "<body>\n",
              "    <div>            <script src=\"https://cdnjs.cloudflare.com/ajax/libs/mathjax/2.7.5/MathJax.js?config=TeX-AMS-MML_SVG\"></script><script type=\"text/javascript\">if (window.MathJax && window.MathJax.Hub && && window.MathJax.Hub.Config) {window.MathJax.Hub.Config({SVG: {font: \"STIX-Web\"}});}</script>                <script type=\"text/javascript\">window.PlotlyConfig = {MathJaxConfig: 'local'};</script>\n",
              "        <script src=\"https://cdn.plot.ly/plotly-2.12.1.min.js\"></script>                <div id=\"f2c70a80-5f52-4baf-beec-6a98c1cdacbe\" class=\"plotly-graph-div\" style=\"height:500px; width:1500px;\"></div>            <script type=\"text/javascript\">                                    window.PLOTLYENV=window.PLOTLYENV || {};                                    if (document.getElementById(\"f2c70a80-5f52-4baf-beec-6a98c1cdacbe\")) {                    Plotly.newPlot(                        \"f2c70a80-5f52-4baf-beec-6a98c1cdacbe\",                        [{\"labels\":[\"Promoter (<=1kb)\",\"Promoter (1-2kb)\",\"Promoter (2-3kb)\",\"5' UTR\",\"3' UTR\",\"1st Exon\",\"Other Exon\",\"1st Intron\",\"Other Intron\",\"Downstream (<=300)\",\"Distal Intergenic\"],\"name\":\"AGO1 HepG2\",\"rotation\":0,\"sort\":false,\"values\":[70.17004859,7.04486996,4.55844527,0.17147757,2.57930837,0.07859388,1.87910832,1.86481852,3.29379823,0.20720206,8.15232924],\"type\":\"pie\",\"domain\":{\"x\":[0.0,0.2125],\"y\":[0.0,1.0]},\"hole\":0.4,\"hoverinfo\":\"label+percent+name\",\"texttemplate\":\"%{value:.2f}%\"},{\"labels\":[\"Promoter (<=1kb)\",\"Promoter (1-2kb)\",\"Promoter (2-3kb)\",\"5' UTR\",\"3' UTR\",\"1st Exon\",\"Other Exon\",\"1st Intron\",\"Other Intron\",\"Downstream (<=300)\",\"Distal Intergenic\"],\"name\":\"AGO1 K562\",\"rotation\":0,\"sort\":false,\"values\":[65.1120056,8.3916696,5.6440322,0.2012601,3.6314316,0.1750088,2.5901295,1.8988449,3.7014351,0.280014,8.3741687],\"type\":\"pie\",\"domain\":{\"x\":[0.2625,0.475],\"y\":[0.0,1.0]},\"hole\":0.4,\"hoverinfo\":\"label+percent+name\",\"texttemplate\":\"%{value:.2f}%\"},{\"labels\":[\"Promoter (<=1kb)\",\"Promoter (1-2kb)\",\"Promoter (2-3kb)\",\"5' UTR\",\"3' UTR\",\"1st Exon\",\"Other Exon\",\"1st Intron\",\"Other Intron\",\"Downstream (<=300)\",\"Distal Intergenic\"],\"name\":\"AGO2 HepG2\",\"rotation\":0,\"sort\":false,\"values\":[54.677164,9.1981695,6.5803457,0.4185915,4.8669399,0.1518208,4.2856833,3.9907172,9.6731516,0.2233934,5.934023],\"type\":\"pie\",\"domain\":{\"x\":[0.525,0.7375],\"y\":[0.0,1.0]},\"hole\":0.4,\"hoverinfo\":\"label+percent+name\",\"texttemplate\":\"%{value:.2f}%\"}],                        {\"template\":{\"data\":{\"histogram2dcontour\":[{\"type\":\"histogram2dcontour\",\"colorbar\":{\"outlinewidth\":0,\"ticks\":\"\"},\"colorscale\":[[0.0,\"#0d0887\"],[0.1111111111111111,\"#46039f\"],[0.2222222222222222,\"#7201a8\"],[0.3333333333333333,\"#9c179e\"],[0.4444444444444444,\"#bd3786\"],[0.5555555555555556,\"#d8576b\"],[0.6666666666666666,\"#ed7953\"],[0.7777777777777778,\"#fb9f3a\"],[0.8888888888888888,\"#fdca26\"],[1.0,\"#f0f921\"]]}],\"choropleth\":[{\"type\":\"choropleth\",\"colorbar\":{\"outlinewidth\":0,\"ticks\":\"\"}}],\"histogram2d\":[{\"type\":\"histogram2d\",\"colorbar\":{\"outlinewidth\":0,\"ticks\":\"\"},\"colorscale\":[[0.0,\"#0d0887\"],[0.1111111111111111,\"#46039f\"],[0.2222222222222222,\"#7201a8\"],[0.3333333333333333,\"#9c179e\"],[0.4444444444444444,\"#bd3786\"],[0.5555555555555556,\"#d8576b\"],[0.6666666666666666,\"#ed7953\"],[0.7777777777777778,\"#fb9f3a\"],[0.8888888888888888,\"#fdca26\"],[1.0,\"#f0f921\"]]}],\"heatmap\":[{\"type\":\"heatmap\",\"colorbar\":{\"outlinewidth\":0,\"ticks\":\"\"},\"colorscale\":[[0.0,\"#0d0887\"],[0.1111111111111111,\"#46039f\"],[0.2222222222222222,\"#7201a8\"],[0.3333333333333333,\"#9c179e\"],[0.4444444444444444,\"#bd3786\"],[0.5555555555555556,\"#d8576b\"],[0.6666666666666666,\"#ed7953\"],[0.7777777777777778,\"#fb9f3a\"],[0.8888888888888888,\"#fdca26\"],[1.0,\"#f0f921\"]]}],\"heatmapgl\":[{\"type\":\"heatmapgl\",\"colorbar\":{\"outlinewidth\":0,\"ticks\":\"\"},\"colorscale\":[[0.0,\"#0d0887\"],[0.1111111111111111,\"#46039f\"],[0.2222222222222222,\"#7201a8\"],[0.3333333333333333,\"#9c179e\"],[0.4444444444444444,\"#bd3786\"],[0.5555555555555556,\"#d8576b\"],[0.6666666666666666,\"#ed7953\"],[0.7777777777777778,\"#fb9f3a\"],[0.8888888888888888,\"#fdca26\"],[1.0,\"#f0f921\"]]}],\"contourcarpet\":[{\"type\":\"contourcarpet\",\"colorbar\":{\"outlinewidth\":0,\"ticks\":\"\"}}],\"contour\":[{\"type\":\"contour\",\"colorbar\":{\"outlinewidth\":0,\"ticks\":\"\"},\"colorscale\":[[0.0,\"#0d0887\"],[0.1111111111111111,\"#46039f\"],[0.2222222222222222,\"#7201a8\"],[0.3333333333333333,\"#9c179e\"],[0.4444444444444444,\"#bd3786\"],[0.5555555555555556,\"#d8576b\"],[0.6666666666666666,\"#ed7953\"],[0.7777777777777778,\"#fb9f3a\"],[0.8888888888888888,\"#fdca26\"],[1.0,\"#f0f921\"]]}],\"surface\":[{\"type\":\"surface\",\"colorbar\":{\"outlinewidth\":0,\"ticks\":\"\"},\"colorscale\":[[0.0,\"#0d0887\"],[0.1111111111111111,\"#46039f\"],[0.2222222222222222,\"#7201a8\"],[0.3333333333333333,\"#9c179e\"],[0.4444444444444444,\"#bd3786\"],[0.5555555555555556,\"#d8576b\"],[0.6666666666666666,\"#ed7953\"],[0.7777777777777778,\"#fb9f3a\"],[0.8888888888888888,\"#fdca26\"],[1.0,\"#f0f921\"]]}],\"mesh3d\":[{\"type\":\"mesh3d\",\"colorbar\":{\"outlinewidth\":0,\"ticks\":\"\"}}],\"scatter\":[{\"fillpattern\":{\"fillmode\":\"overlay\",\"size\":10,\"solidity\":0.2},\"type\":\"scatter\"}],\"parcoords\":[{\"type\":\"parcoords\",\"line\":{\"colorbar\":{\"outlinewidth\":0,\"ticks\":\"\"}}}],\"scatterpolargl\":[{\"type\":\"scatterpolargl\",\"marker\":{\"colorbar\":{\"outlinewidth\":0,\"ticks\":\"\"}}}],\"bar\":[{\"error_x\":{\"color\":\"#2a3f5f\"},\"error_y\":{\"color\":\"#2a3f5f\"},\"marker\":{\"line\":{\"color\":\"#E5ECF6\",\"width\":0.5},\"pattern\":{\"fillmode\":\"overlay\",\"size\":10,\"solidity\":0.2}},\"type\":\"bar\"}],\"scattergeo\":[{\"type\":\"scattergeo\",\"marker\":{\"colorbar\":{\"outlinewidth\":0,\"ticks\":\"\"}}}],\"scatterpolar\":[{\"type\":\"scatterpolar\",\"marker\":{\"colorbar\":{\"outlinewidth\":0,\"ticks\":\"\"}}}],\"histogram\":[{\"marker\":{\"pattern\":{\"fillmode\":\"overlay\",\"size\":10,\"solidity\":0.2}},\"type\":\"histogram\"}],\"scattergl\":[{\"type\":\"scattergl\",\"marker\":{\"colorbar\":{\"outlinewidth\":0,\"ticks\":\"\"}}}],\"scatter3d\":[{\"type\":\"scatter3d\",\"line\":{\"colorbar\":{\"outlinewidth\":0,\"ticks\":\"\"}},\"marker\":{\"colorbar\":{\"outlinewidth\":0,\"ticks\":\"\"}}}],\"scattermapbox\":[{\"type\":\"scattermapbox\",\"marker\":{\"colorbar\":{\"outlinewidth\":0,\"ticks\":\"\"}}}],\"scatterternary\":[{\"type\":\"scatterternary\",\"marker\":{\"colorbar\":{\"outlinewidth\":0,\"ticks\":\"\"}}}],\"scattercarpet\":[{\"type\":\"scattercarpet\",\"marker\":{\"colorbar\":{\"outlinewidth\":0,\"ticks\":\"\"}}}],\"carpet\":[{\"aaxis\":{\"endlinecolor\":\"#2a3f5f\",\"gridcolor\":\"white\",\"linecolor\":\"white\",\"minorgridcolor\":\"white\",\"startlinecolor\":\"#2a3f5f\"},\"baxis\":{\"endlinecolor\":\"#2a3f5f\",\"gridcolor\":\"white\",\"linecolor\":\"white\",\"minorgridcolor\":\"white\",\"startlinecolor\":\"#2a3f5f\"},\"type\":\"carpet\"}],\"table\":[{\"cells\":{\"fill\":{\"color\":\"#EBF0F8\"},\"line\":{\"color\":\"white\"}},\"header\":{\"fill\":{\"color\":\"#C8D4E3\"},\"line\":{\"color\":\"white\"}},\"type\":\"table\"}],\"barpolar\":[{\"marker\":{\"line\":{\"color\":\"#E5ECF6\",\"width\":0.5},\"pattern\":{\"fillmode\":\"overlay\",\"size\":10,\"solidity\":0.2}},\"type\":\"barpolar\"}],\"pie\":[{\"automargin\":true,\"type\":\"pie\"}]},\"layout\":{\"autotypenumbers\":\"strict\",\"colorway\":[\"#636efa\",\"#EF553B\",\"#00cc96\",\"#ab63fa\",\"#FFA15A\",\"#19d3f3\",\"#FF6692\",\"#B6E880\",\"#FF97FF\",\"#FECB52\"],\"font\":{\"color\":\"#2a3f5f\"},\"hovermode\":\"closest\",\"hoverlabel\":{\"align\":\"left\"},\"paper_bgcolor\":\"white\",\"plot_bgcolor\":\"#E5ECF6\",\"polar\":{\"bgcolor\":\"#E5ECF6\",\"angularaxis\":{\"gridcolor\":\"white\",\"linecolor\":\"white\",\"ticks\":\"\"},\"radialaxis\":{\"gridcolor\":\"white\",\"linecolor\":\"white\",\"ticks\":\"\"}},\"ternary\":{\"bgcolor\":\"#E5ECF6\",\"aaxis\":{\"gridcolor\":\"white\",\"linecolor\":\"white\",\"ticks\":\"\"},\"baxis\":{\"gridcolor\":\"white\",\"linecolor\":\"white\",\"ticks\":\"\"},\"caxis\":{\"gridcolor\":\"white\",\"linecolor\":\"white\",\"ticks\":\"\"}},\"coloraxis\":{\"colorbar\":{\"outlinewidth\":0,\"ticks\":\"\"}},\"colorscale\":{\"sequential\":[[0.0,\"#0d0887\"],[0.1111111111111111,\"#46039f\"],[0.2222222222222222,\"#7201a8\"],[0.3333333333333333,\"#9c179e\"],[0.4444444444444444,\"#bd3786\"],[0.5555555555555556,\"#d8576b\"],[0.6666666666666666,\"#ed7953\"],[0.7777777777777778,\"#fb9f3a\"],[0.8888888888888888,\"#fdca26\"],[1.0,\"#f0f921\"]],\"sequentialminus\":[[0.0,\"#0d0887\"],[0.1111111111111111,\"#46039f\"],[0.2222222222222222,\"#7201a8\"],[0.3333333333333333,\"#9c179e\"],[0.4444444444444444,\"#bd3786\"],[0.5555555555555556,\"#d8576b\"],[0.6666666666666666,\"#ed7953\"],[0.7777777777777778,\"#fb9f3a\"],[0.8888888888888888,\"#fdca26\"],[1.0,\"#f0f921\"]],\"diverging\":[[0,\"#8e0152\"],[0.1,\"#c51b7d\"],[0.2,\"#de77ae\"],[0.3,\"#f1b6da\"],[0.4,\"#fde0ef\"],[0.5,\"#f7f7f7\"],[0.6,\"#e6f5d0\"],[0.7,\"#b8e186\"],[0.8,\"#7fbc41\"],[0.9,\"#4d9221\"],[1,\"#276419\"]]},\"xaxis\":{\"gridcolor\":\"white\",\"linecolor\":\"white\",\"ticks\":\"\",\"title\":{\"standoff\":15},\"zerolinecolor\":\"white\",\"automargin\":true,\"zerolinewidth\":2},\"yaxis\":{\"gridcolor\":\"white\",\"linecolor\":\"white\",\"ticks\":\"\",\"title\":{\"standoff\":15},\"zerolinecolor\":\"white\",\"automargin\":true,\"zerolinewidth\":2},\"scene\":{\"xaxis\":{\"backgroundcolor\":\"#E5ECF6\",\"gridcolor\":\"white\",\"linecolor\":\"white\",\"showbackground\":true,\"ticks\":\"\",\"zerolinecolor\":\"white\",\"gridwidth\":2},\"yaxis\":{\"backgroundcolor\":\"#E5ECF6\",\"gridcolor\":\"white\",\"linecolor\":\"white\",\"showbackground\":true,\"ticks\":\"\",\"zerolinecolor\":\"white\",\"gridwidth\":2},\"zaxis\":{\"backgroundcolor\":\"#E5ECF6\",\"gridcolor\":\"white\",\"linecolor\":\"white\",\"showbackground\":true,\"ticks\":\"\",\"zerolinecolor\":\"white\",\"gridwidth\":2}},\"shapedefaults\":{\"line\":{\"color\":\"#2a3f5f\"}},\"annotationdefaults\":{\"arrowcolor\":\"#2a3f5f\",\"arrowhead\":0,\"arrowwidth\":1},\"geo\":{\"bgcolor\":\"white\",\"landcolor\":\"#E5ECF6\",\"subunitcolor\":\"white\",\"showland\":true,\"showlakes\":true,\"lakecolor\":\"white\"},\"title\":{\"x\":0.05},\"mapbox\":{\"style\":\"light\"}}},\"annotations\":[{\"font\":{\"size\":16},\"showarrow\":false,\"text\":\"AGO1 HepG2\",\"x\":0.10625,\"xanchor\":\"center\",\"xref\":\"paper\",\"y\":1.0,\"yanchor\":\"bottom\",\"yref\":\"paper\",\"yshift\":20},{\"font\":{\"size\":16},\"showarrow\":false,\"text\":\"AGO1 K562\",\"x\":0.36875,\"xanchor\":\"center\",\"xref\":\"paper\",\"y\":1.0,\"yanchor\":\"bottom\",\"yref\":\"paper\",\"yshift\":20},{\"font\":{\"size\":16},\"showarrow\":false,\"text\":\"AGO2 HepG2\",\"x\":0.6312500000000001,\"xanchor\":\"center\",\"xref\":\"paper\",\"y\":1.0,\"yanchor\":\"bottom\",\"yref\":\"paper\",\"yshift\":20}],\"uniformtext\":{\"minsize\":10,\"mode\":\"hide\"},\"legend\":{\"font\":{\"size\":16}},\"height\":500,\"width\":1500},                        {\"responsive\": true}                    ).then(function(){\n",
              "                            \n",
              "var gd = document.getElementById('f2c70a80-5f52-4baf-beec-6a98c1cdacbe');\n",
              "var x = new MutationObserver(function (mutations, observer) {{\n",
              "        var display = window.getComputedStyle(gd).display;\n",
              "        if (!display || display === 'none') {{\n",
              "            console.log([gd, 'removed!']);\n",
              "            Plotly.purge(gd);\n",
              "            observer.disconnect();\n",
              "        }}\n",
              "}});\n",
              "\n",
              "// Listen for the removal of the full notebook cells\n",
              "var notebookContainer = gd.closest('#notebook-container');\n",
              "if (notebookContainer) {{\n",
              "    x.observe(notebookContainer, {childList: true});\n",
              "}}\n",
              "\n",
              "// Listen for the clearing of the current output cell\n",
              "var outputEl = gd.closest('.output');\n",
              "if (outputEl) {{\n",
              "    x.observe(outputEl, {childList: true});\n",
              "}}\n",
              "\n",
              "                        })                };                            </script>        </div>\n",
              "</body>\n",
              "</html>"
            ]
          },
          "metadata": {}
        }
      ]
    },
    {
      "cell_type": "code",
      "source": [
        "import sys"
      ],
      "metadata": {
        "id": "_tdI32amjk_z"
      },
      "execution_count": 7,
      "outputs": []
    },
    {
      "cell_type": "code",
      "source": [
        "sys.version"
      ],
      "metadata": {
        "colab": {
          "base_uri": "https://localhost:8080/",
          "height": 35
        },
        "id": "dUk8i0HZlFEb",
        "outputId": "36754338-7b77-46cf-d75c-1e176b2c81fa"
      },
      "execution_count": 8,
      "outputs": [
        {
          "output_type": "execute_result",
          "data": {
            "text/plain": [
              "'3.7.13 (default, Apr 24 2022, 01:04:09) \\n[GCC 7.5.0]'"
            ],
            "application/vnd.google.colaboratory.intrinsic+json": {
              "type": "string"
            }
          },
          "metadata": {},
          "execution_count": 8
        }
      ]
    },
    {
      "cell_type": "code",
      "source": [
        ""
      ],
      "metadata": {
        "id": "O03nc2U0lGZ3"
      },
      "execution_count": null,
      "outputs": []
    }
  ]
}